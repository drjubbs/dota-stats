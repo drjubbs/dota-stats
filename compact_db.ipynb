{
 "cells": [
  {
   "cell_type": "markdown",
   "metadata": {},
   "source": [
    "# Hero Overall Win Rates\n",
    "\n",
    "Simple calculation of the overall win rate for each hero over a series of database files. Edit DB_FILES list to contain list of files."
   ]
  },
  {
   "cell_type": "code",
   "execution_count": null,
   "metadata": {},
   "outputs": [],
   "source": [
    "import sqlite3\n",
    "import os\n",
    "import meta\n",
    "import json\n",
    "import pandas as pd\n",
    "import datetime as dt\n",
    "import re\n",
    "import plotly.express as px\n",
    "import pandas as pd\n",
    "from sklearn.linear_model import LogisticRegression\n",
    "from sklearn.metrics import *\n",
    "import numpy as np"
   ]
  },
  {
   "cell_type": "markdown",
   "metadata": {},
   "source": [
    "## Merge databases and remove duplicates"
   ]
  },
  {
   "cell_type": "code",
   "execution_count": null,
   "metadata": {},
   "outputs": [],
   "source": [
    "DB_FILES=[]\n",
    "for filename in os.listdir(\".\"):    \n",
    "    if re.match(\"^.*db$\",filename) is not None:    \n",
    "        DB_FILES.append(filename)\n",
    "                    \n",
    "rows=[]\n",
    "for this_file in DB_FILES:\n",
    "    conn=sqlite3.connect(this_file)\n",
    "    c=conn.cursor()\n",
    "    c.execute(\"SELECT match_id, start_time, radiant_heroes, dire_heroes, radiant_win, api_skill, items, gold_spent FROM dota_stats\")\n",
    "    rows.extend(c.fetchall())\n",
    "    print(\"{0} {1}\".format(this_file,len(rows)))"
   ]
  },
  {
   "cell_type": "code",
   "execution_count": null,
   "metadata": {},
   "outputs": [],
   "source": [
    "rows=list(set(rows))\n",
    "print(\"Removing duplicates: {0}\".format(len(rows)))"
   ]
  },
  {
   "cell_type": "code",
   "execution_count": null,
   "metadata": {},
   "outputs": [],
   "source": [
    "import mariadb\n",
    "\n",
    "conn_maria = mariadb.connect(\n",
    "    user=os.environ['DOTA_USERNAME'],\n",
    "    password=os.environ['DOTA_PASSWORD'],\n",
    "    host=\"localhost\",\n",
    "    database=\"dota\")\n",
    "\n",
    "c=conn_maria.cursor()\n",
    "c.execute(\"select count(*) from dota_matches\")\n",
    "print(\"Rows before merge: {0} \".format(c.fetchall()[0][0]))\n",
    "\n",
    "# Batch samples in\n",
    "BATCH_SIZE=2000\n",
    "for i in range(len(rows)//BATCH_SIZE+1):    \n",
    "    begin=i*BATCH_SIZE\n",
    "    end=min(len(rows),(i+1)*BATCH_SIZE)\n",
    "    print(\"{0} to {1}\".format(begin,end))\n",
    "    #c.executemany('INSERT IGNORE INTO dota_matches (match_id, start_time, radiant_heroes, dire_heroes, radiant_win, api_skill, items, gold_spent) values(%d, %d, %s, %s, %d, %d, %s, %s)', \n",
    "    #              list(rows)[begin:end])\n",
    "    c.executemany('INSERT IGNORE INTO dota_matches (match_id, start_time, radiant_heroes, dire_heroes, radiant_win, api_skill, items, gold_spent) values(?, ?, ?, ?, ?, ?, ?, ?)', \n",
    "                  list(rows)[begin:end])\n",
    "    \n",
    "conn_maria.commit()\n",
    "c.execute(\"select count(*) from dota_matches\")\n",
    "print(\"Rows after merge: {0} \".format(c.fetchall()[0][0]))\n",
    "conn_maria.close()"
   ]
  }
 ],
 "metadata": {
  "kernelspec": {
   "display_name": "Python 3",
   "language": "python",
   "name": "python3"
  },
  "language_info": {
   "codemirror_mode": {
    "name": "ipython",
    "version": 3
   },
   "file_extension": ".py",
   "mimetype": "text/x-python",
   "name": "python",
   "nbconvert_exporter": "python",
   "pygments_lexer": "ipython3",
   "version": "3.7.3"
  }
 },
 "nbformat": 4,
 "nbformat_minor": 2
}
