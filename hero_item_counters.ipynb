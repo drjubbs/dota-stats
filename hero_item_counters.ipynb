{
 "cells": [
  {
   "cell_type": "markdown",
   "metadata": {},
   "source": [
    "# Items Counters\n",
    "\n",
    "Analyzes database of games looking for specific items which counter heroes."
   ]
  },
  {
   "cell_type": "code",
   "execution_count": 2,
   "metadata": {},
   "outputs": [],
   "source": [
    "import sqlite3\n",
    "import meta\n",
    "import os\n",
    "import ujson as json\n",
    "import pandas as pd"
   ]
  },
  {
   "cell_type": "code",
   "execution_count": 3,
   "metadata": {},
   "outputs": [],
   "source": [
    "DB_FILES = ['matches_3_all_2020010307.db']"
   ]
  },
  {
   "cell_type": "code",
   "execution_count": 4,
   "metadata": {},
   "outputs": [
    {
     "name": "stdout",
     "output_type": "stream",
     "text": [
      "23149 matches found in database\n"
     ]
    }
   ],
   "source": [
    "rows=[]\n",
    "for db_file in DB_FILES:\n",
    "    conn = sqlite3.connect(db_file)\n",
    "    c = conn.cursor()\n",
    "    c.execute(\"SELECT match_id, radiant_heroes, dire_heroes, items, gold_spent, radiant_win FROM {}\".format(\n",
    "        os.environ['DOTA_SQL_STATS_TABLE']))\n",
    "    rows.extend(c.fetchall())\n",
    "    conn.close()\n",
    "    \n",
    "print(\"{0} matches found in database\".format(len(rows)))"
   ]
  },
  {
   "cell_type": "markdown",
   "metadata": {},
   "source": [
    "## Generate histogram of items\n",
    "\n",
    "Use this to determine short list of items to screen as counters."
   ]
  },
  {
   "cell_type": "code",
   "execution_count": 5,
   "metadata": {},
   "outputs": [],
   "source": [
    "item_list=[]\n",
    "for match_id, radiant_heroes, dire_heroes, items, gold_spent, radiant_win in rows:\n",
    "    t=json.loads(items)\n",
    "    for k,v in t.items():\n",
    "        for item in v:\n",
    "            if not(item==0):\n",
    "                item_list.append([match_id, item])"
   ]
  },
  {
   "cell_type": "code",
   "execution_count": 6,
   "metadata": {},
   "outputs": [],
   "source": [
    "df=pd.DataFrame(item_list)\n",
    "df.columns=['match_id', 'item']\n",
    "df['match_id']='dummy'\n",
    "df_summary=df.pivot_table(values='match_id', columns='item', aggfunc='count').T"
   ]
  },
  {
   "cell_type": "code",
   "execution_count": 7,
   "metadata": {},
   "outputs": [],
   "source": [
    "df_summary.index=[meta.REVERSE_ITEM[a] for a in df_summary.index]"
   ]
  },
  {
   "cell_type": "code",
   "execution_count": 10,
   "metadata": {},
   "outputs": [],
   "source": [
    "df_summary.to_csv(\"temp_item_summary.csv\")"
   ]
  }
 ],
 "metadata": {
  "kernelspec": {
   "display_name": "Python 3",
   "language": "python",
   "name": "python3"
  },
  "language_info": {
   "codemirror_mode": {
    "name": "ipython",
    "version": 3
   },
   "file_extension": ".py",
   "mimetype": "text/x-python",
   "name": "python",
   "nbconvert_exporter": "python",
   "pygments_lexer": "ipython3",
   "version": "3.7.3"
  }
 },
 "nbformat": 4,
 "nbformat_minor": 2
}
