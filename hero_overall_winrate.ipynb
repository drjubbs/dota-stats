{
 "cells": [
  {
   "cell_type": "markdown",
   "metadata": {},
   "source": [
    "# Hero Overall Win Rates\n",
    "\n",
    "Simple calculation of the overall win rate for each zero for a given database file.\n",
    "\n",
    "## TODO:\n",
    "- Add support for filtering by patch"
   ]
  },
  {
   "cell_type": "code",
   "execution_count": 11,
   "metadata": {},
   "outputs": [],
   "source": [
    "import sqlite3\n",
    "import os\n",
    "import meta\n",
    "import json\n",
    "import pandas as pd\n",
    "import datetime as dt\n",
    "\n",
    "DB_FILE=\"matches_1_all_2020032410.db\""
   ]
  },
  {
   "cell_type": "code",
   "execution_count": 2,
   "metadata": {},
   "outputs": [],
   "source": [
    "conn=sqlite3.connect(DB_FILE)"
   ]
  },
  {
   "cell_type": "code",
   "execution_count": 3,
   "metadata": {},
   "outputs": [],
   "source": [
    "c=conn.cursor()"
   ]
  },
  {
   "cell_type": "code",
   "execution_count": 4,
   "metadata": {},
   "outputs": [],
   "source": [
    "c.execute(\"SELECT start_time, radiant_heroes, dire_heroes, radiant_win FROM {}\".format(os.environ['DOTA_SQL_STATS_TABLE']))\n",
    "rows=c.fetchall()"
   ]
  },
  {
   "cell_type": "code",
   "execution_count": 7,
   "metadata": {},
   "outputs": [],
   "source": [
    "winner_list=[]\n",
    "total_list=[]\n",
    "\n",
    "min_start_time=None\n",
    "max_start_time=None\n",
    "\n",
    "for row in rows:\n",
    "    \n",
    "    # Radiant win\n",
    "    if row[3]==1:\n",
    "        for hero in json.loads(row[1]):\n",
    "            winner_list.append(meta.HERO_DICT[hero])\n",
    "            total_list.append(meta.HERO_DICT[hero])\n",
    "        for hero in json.loads(row[2]):\n",
    "            total_list.append(meta.HERO_DICT[hero])            \n",
    "    \n",
    "    # Dire win\n",
    "    if row[2]==1:\n",
    "        for hero in json.loads(row[2]):\n",
    "            winner_list.append(meta.HERO_DICT[hero])\n",
    "            total_list.append(meta.HERO_DICT[hero])\n",
    "        for hero in json.loads(row[1]):\n",
    "            total_list.append(meta.HERO_DICT[hero])\n",
    "            \n",
    "    # Update min and max start times\n",
    "    if min_start_time==None:\n",
    "        min_start_time=row[0]\n",
    "        max_start_time=row[0]\n",
    "    else:\n",
    "        if row[0]<min_start_time:\n",
    "            min_start_time=row[0]\n",
    "        if row[0]>max_start_time:\n",
    "            max_start_time=row[0]"
   ]
  },
  {
   "cell_type": "code",
   "execution_count": 8,
   "metadata": {},
   "outputs": [],
   "source": [
    "df_win=pd.DataFrame(winner_list, columns=['hero'])\n",
    "df_win['win']=1\n",
    "df_win=df_win.groupby(\"hero\").count()\n",
    "\n",
    "df_total=pd.DataFrame(total_list, columns=['hero'])\n",
    "df_total['total']=1\n",
    "df_total=df_total.groupby(\"hero\").count()"
   ]
  },
  {
   "cell_type": "code",
   "execution_count": 9,
   "metadata": {},
   "outputs": [],
   "source": [
    "df_overall=df_win.join(df_total)\n",
    "df_overall['win_rate']=df_overall['win']/df_overall['total']*100"
   ]
  },
  {
   "cell_type": "code",
   "execution_count": 10,
   "metadata": {},
   "outputs": [
    {
     "name": "stdout",
     "output_type": "stream",
     "text": [
      "meepo                  62.93   2905   4616\n",
      "underlord              58.02   3274   5643\n",
      "wraith-king            58.01   8091  13947\n",
      "bloodseeker            55.65   4896   8798\n",
      "jakiro                 55.02   4253   7730\n",
      "vengeful-spirit        54.64   2693   4929\n",
      "ogre-magi              54.48  10387  19064\n",
      "ursa                   54.30   4548   8375\n",
      "lycan                  54.08   1585   2931\n",
      "sniper                 54.02   8681  16071\n",
      "troll-warlord          53.90   4049   7512\n",
      "luna                   53.81   3158   5869\n",
      "crystal-maiden         53.75   6008  11178\n",
      "dragon-knight          53.55   3305   6172\n",
      "necrophos              53.04   3823   7208\n",
      "warlock                52.98   2054   3877\n",
      "naga-siren             52.74   1778   3371\n",
      "lone-druid             52.74   1453   2755\n",
      "clockwerk              52.58   2893   5502\n",
      "dark-seer              52.55   1144   2177\n",
      "visage                 52.52    647   1232\n",
      "axe                    52.38   5695  10873\n",
      "bounty-hunter          52.37   4644   8867\n",
      "dazzle                 52.25   5165   9885\n",
      "razor                  52.23   2668   5108\n",
      "abaddon                51.89   2119   4084\n",
      "venomancer             51.66   2407   4659\n",
      "alchemist              51.59   3003   5821\n",
      "phoenix                51.58   2038   3951\n",
      "enigma                 51.48   1405   2729\n",
      "witch-doctor           51.42   5537  10768\n",
      "pugna                  51.38   2421   4712\n",
      "phantom-lancer         51.37   3866   7526\n",
      "lich                   51.32   4152   8091\n",
      "terrorblade            51.15   1562   3054\n",
      "brewmaster             51.05    927   1816\n",
      "keeper-of-the-light    51.01   2195   4303\n",
      "weaver                 50.98   4447   8723\n",
      "riki                   50.97   3407   6684\n",
      "beastmaster            50.91   1063   2088\n",
      "huskar                 50.86   3386   6657\n",
      "ancient-apparition     50.77   2637   5194\n",
      "zeus                   50.70   4406   8690\n",
      "bristleback            50.70   5616  11077\n",
      "undying                50.67   2014   3975\n",
      "skywrath-mage          50.64   3728   7362\n",
      "silencer               50.61   4268   8433\n",
      "drow-ranger            50.55   4335   8576\n",
      "tidehunter             50.53   2445   4839\n",
      "snapfire               50.49   5285  10468\n",
      "centaur-warrunner      50.29   2561   5092\n",
      "legion-commander       50.19   6933  13813\n",
      "pudge                  50.13  11846  23632\n",
      "chaos-knight           50.09   2191   4374\n",
      "death-prophet          49.93   2051   4108\n",
      "bane                   49.92   1539   3083\n",
      "shadow-fiend           49.92   4600   9215\n",
      "disruptor              49.88   3697   7412\n",
      "spirit-breaker         49.78   4581   9203\n",
      "treant-protector       49.63   1938   3905\n",
      "mirana                 49.53   4632   9352\n",
      "slardar                49.40   4086   8271\n",
      "spectre                49.31   3157   6402\n",
      "dark-willow            49.13   2215   4508\n",
      "shadow-shaman          49.12   4823   9819\n",
      "sand-king              49.11   2132   4341\n",
      "night-stalker          49.07   1745   3556\n",
      "juggernaut             49.03  10007  20412\n",
      "void-spirit            49.02   3364   6862\n",
      "monkey-king            49.02   4870   9934\n",
      "queen-of-pain          49.02   3403   6942\n",
      "timbersaw              49.00   2553   5210\n",
      "techies                48.92   2370   4845\n",
      "phantom-assassin       48.79   8148  16699\n",
      "mars                   48.74   3268   6705\n",
      "earthshaker            48.70   4777   9810\n",
      "medusa                 48.61   3253   6692\n",
      "nyx-assassin           48.55   1809   3726\n",
      "slark                  48.46   6701  13828\n",
      "winter-wyvern          48.22   1923   3988\n",
      "windranger             48.17   5323  11050\n",
      "omniknight             47.93   1282   2675\n",
      "elder-titan            47.87    886   1851\n",
      "chen                   47.79    531   1111\n",
      "sven                   47.72   3052   6395\n",
      "faceless-void          47.69   5876  12321\n",
      "broodmother            47.69   1021   2141\n",
      "shadow-demon           47.44   1148   2420\n",
      "morphling              47.42   3120   6580\n",
      "lion                   47.39   9641  20344\n",
      "kunkka                 47.29   3118   6593\n",
      "viper                  46.98   2939   6256\n",
      "clinkz                 46.98   1546   3291\n",
      "magnus                 46.81   1724   3683\n",
      "puck                   46.78   1848   3950\n",
      "rubick                 46.68   4355   9329\n",
      "ember-spirit           46.67   2906   6227\n",
      "grimstroke             46.50   2285   4914\n",
      "lina                   46.45   3797   8175\n",
      "templar-assassin       46.30   2318   5007\n",
      "batrider               46.26    945   2043\n",
      "tusk                   46.23   2134   4616\n",
      "earth-spirit           46.22   1143   2473\n",
      "nature's-prophet       46.17   2748   5952\n",
      "pangolier              46.09   2282   4951\n",
      "anti-mage              46.01   4973  10808\n",
      "lifestealer            45.82   3372   7360\n",
      "enchantress            45.75   1344   2938\n",
      "io                     45.39   1190   2622\n",
      "gyrocopter             45.37   1710   3769\n",
      "invoker                45.31   5081  11213\n",
      "oracle                 44.97   1087   2417\n",
      "tinker                 44.73   2094   4681\n",
      "arc-warden             44.68    798   1786\n",
      "outworld-devourer      43.69   1713   3921\n",
      "storm-spirit           43.44   2926   6736\n",
      "tiny                   43.43   2140   4927\n",
      "doom                   42.77   1410   3297\n",
      "leshrac                42.41   1000   2358\n"
     ]
    }
   ],
   "source": [
    "df_overall=df_overall.sort_values(by='win_rate', ascending=False)\n",
    "for idx,row in df_overall.iterrows():\n",
    "    print(\"{0:20} {1:7.2f} {2:6d} {3:6d}\".format(\n",
    "        idx, row['win_rate'], int(row['win']), int(row['total'])))"
   ]
  },
  {
   "cell_type": "code",
   "execution_count": 18,
   "metadata": {},
   "outputs": [
    {
     "name": "stdout",
     "output_type": "stream",
     "text": [
      "Starting time: 2020-03-24T13:31:52\n",
      "Ending time:   2020-03-26T06:57:14\n"
     ]
    }
   ],
   "source": [
    "print(\"Starting time: {}\".format(dt.datetime.utcfromtimestamp(min_start_time).isoformat()))\n",
    "print(\"Ending time:   {}\".format(dt.datetime.utcfromtimestamp(max_start_time).isoformat()))"
   ]
  },
  {
   "cell_type": "code",
   "execution_count": null,
   "metadata": {},
   "outputs": [],
   "source": []
  }
 ],
 "metadata": {
  "kernelspec": {
   "display_name": "Python 3",
   "language": "python",
   "name": "python3"
  },
  "language_info": {
   "codemirror_mode": {
    "name": "ipython",
    "version": 3
   },
   "file_extension": ".py",
   "mimetype": "text/x-python",
   "name": "python",
   "nbconvert_exporter": "python",
   "pygments_lexer": "ipython3",
   "version": "3.7.3"
  }
 },
 "nbformat": 4,
 "nbformat_minor": 2
}
