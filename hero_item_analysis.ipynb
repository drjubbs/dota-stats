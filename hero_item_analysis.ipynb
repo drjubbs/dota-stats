{
 "cells": [
  {
   "cell_type": "markdown",
   "metadata": {},
   "source": [
    "# Hero/Item Analysis\n",
    "\n",
    "Visualizes and analyzes a subset of the data based on hero and items for win rate. The database must contains matches where a single hero appear in each match, see the command line options in ``fetch.py`` for details."
   ]
  },
  {
   "cell_type": "code",
   "execution_count": null,
   "metadata": {},
   "outputs": [],
   "source": [
    "import sqlite3\n",
    "import meta\n",
    "import os\n",
    "import ujson as json\n",
    "import pandas as pd"
   ]
  },
  {
   "cell_type": "markdown",
   "metadata": {},
   "source": [
    "## Parameters"
   ]
  },
  {
   "cell_type": "code",
   "execution_count": null,
   "metadata": {},
   "outputs": [],
   "source": [
    "# Parameters for analysis\n",
    "#DB_FILES = ['matches_2_2019122810.db', 'matches_2_2019122912.db']            \n",
    "DB_FILES = ['matches_3_2019123112.db']\n",
    "HERO = 'juggernaut'\n",
    "#ITEMS = ['phase_boots', 'power_treads', 'travel_boots', 'boots']\n",
    "#ITEMS = ['diffusal_blade']\n",
    "ITEMS = ['bfury']\n",
    "#ITEMS = ['maelstrom','mjollnir']\n"
   ]
  },
  {
   "cell_type": "code",
   "execution_count": null,
   "metadata": {},
   "outputs": [],
   "source": [
    "rows=[]\n",
    "for db_file in DB_FILES:\n",
    "    conn = sqlite3.connect(db_file)\n",
    "    c = conn.cursor()\n",
    "    c.execute(\"SELECT match_id, radiant_heroes, dire_heroes, items, gold_spent, radiant_win FROM {}\".format(\n",
    "        os.environ['DOTA_SQL_STATS_TABLE']))\n",
    "    rows.extend(c.fetchall())\n",
    "    conn.close()\n",
    "    \n",
    "print(\"{0} matches found in database\".format(len(rows)))"
   ]
  },
  {
   "cell_type": "code",
   "execution_count": null,
   "metadata": {},
   "outputs": [],
   "source": [
    "# Debug for finding item names\n",
    "meta.ITEMS"
   ]
  },
  {
   "cell_type": "code",
   "execution_count": null,
   "metadata": {},
   "outputs": [],
   "source": [
    "items_tuple=[(meta.ITEMS[t]['id'], t) for t in ITEMS]\n",
    "items_tuple"
   ]
  },
  {
   "cell_type": "code",
   "execution_count": null,
   "metadata": {},
   "outputs": [],
   "source": [
    "# Process all matches\n",
    "dd=[]\n",
    "target_hero_num = meta.REVERSE_HERO_DICT[HERO.lower()]\n",
    "for match_id, radiant_heroes, dire_heroes, items, gold_spent, radiant_win in rows:\n",
    "    \n",
    "    # Load team and enemy\n",
    "    rhs=json.loads(radiant_heroes)\n",
    "    dhs=json.loads(dire_heroes)\n",
    "    \n",
    "    if target_hero_num in rhs:\n",
    "        team = rhs\n",
    "        enemy = dhs\n",
    "        team_win = radiant_win        \n",
    "    else:\n",
    "        team = dhs\n",
    "        enemy = rhs\n",
    "        team_win = not(radiant_win)        \n",
    "\n",
    "    # Metrics on spent gold\n",
    "    gs=json.loads(gold_spent)\n",
    "    team_gold_spent = 0\n",
    "    enemy_gold_spent = 0\n",
    "    \n",
    "    for th in team:\n",
    "        if th is not target_hero_num:\n",
    "            team_gold_spent = team_gold_spent + gs[str(th)]\n",
    "        else:\n",
    "            hero_gold_spent = gs[str(th)]\n",
    "    \n",
    "    enemy_gold_spent = 0\n",
    "    for eh in enemy:\n",
    "        enemy_gold_spent = enemy_gold_spent + gs[str(eh)]\n",
    "        \n",
    "    # Presence of selected items, default to not having item in list\n",
    "    items_dict=json.loads(items)\n",
    "    item_value = 'none'\n",
    "    for item_num, item_name in items_tuple:\n",
    "        if item_num in items_dict[str(target_hero_num)]:\n",
    "            item_value=item_name\n",
    "\n",
    "    # Create row for the dataframe\n",
    "    \n",
    "    if team_win:\n",
    "        team_win = 'yes'\n",
    "    else:\n",
    "        team_win = 'no'\n",
    "    \n",
    "    dd.append((match_id,\n",
    "               target_hero_num in rhs,               \n",
    "               hero_gold_spent,\n",
    "               team_gold_spent,\n",
    "               enemy_gold_spent, \n",
    "               team_win, \n",
    "               item_value ))"
   ]
  },
  {
   "cell_type": "code",
   "execution_count": null,
   "metadata": {},
   "outputs": [],
   "source": [
    "# Calculate some additional metrics\n",
    "df=pd.DataFrame(dd, columns=['match_id', 'hero_radiant', 'hero_gold_spent', \n",
    "                             'team_gold_spent', 'enemy_gold_spent', 'team_win', 'item' ])\n",
    "df['gold_spent_ratio']=df['team_gold_spent']/(df['team_gold_spent']+df['enemy_gold_spent'])\n",
    "df['total_gold_spent']=df['team_gold_spent']+df['enemy_gold_spent']"
   ]
  },
  {
   "cell_type": "code",
   "execution_count": null,
   "metadata": {},
   "outputs": [],
   "source": [
    "import plotly.express as px\n",
    "fig=px.scatter(df, x='gold_spent_ratio', y='total_gold_spent', color='team_win', \n",
    "               facet_col='item', width=1000, height=700, marginal_x=\"violin\", marginal_y=\"violin\")\n",
    "fig.update_traces(marker=dict(size=6,\n",
    "                              line=dict(width=1,\n",
    "                                        color='DarkSlateGrey')),\n",
    "                  selector=dict(mode='markers'))\n",
    "\n",
    "fig.show()"
   ]
  },
  {
   "cell_type": "code",
   "execution_count": null,
   "metadata": {
    "scrolled": true
   },
   "outputs": [],
   "source": [
    "from sklearn.linear_model import LogisticRegression\n",
    "from sklearn.preprocessing import OneHotEncoder\n",
    "import numpy as np"
   ]
  },
  {
   "cell_type": "code",
   "execution_count": null,
   "metadata": {},
   "outputs": [],
   "source": [
    "lr=LogisticRegression()\n",
    "ohe=OneHotEncoder()"
   ]
  },
  {
   "cell_type": "code",
   "execution_count": null,
   "metadata": {},
   "outputs": [],
   "source": [
    "ohe.fit(df['item'].values.reshape(-1,1))"
   ]
  },
  {
   "cell_type": "code",
   "execution_count": null,
   "metadata": {},
   "outputs": [],
   "source": [
    "X2=ohe.transform(df['item'].values.reshape(-1,1)).todense()"
   ]
  },
  {
   "cell_type": "code",
   "execution_count": null,
   "metadata": {},
   "outputs": [],
   "source": [
    "X1=df['gold_spent_ratio'].values"
   ]
  },
  {
   "cell_type": "code",
   "execution_count": null,
   "metadata": {},
   "outputs": [],
   "source": [
    "X=np.concatenate([X1.reshape(-1,1),X2], axis=1)\n",
    "y=df['team_win'].values"
   ]
  },
  {
   "cell_type": "code",
   "execution_count": null,
   "metadata": {},
   "outputs": [],
   "source": [
    "lr.fit(X,y)"
   ]
  },
  {
   "cell_type": "code",
   "execution_count": null,
   "metadata": {},
   "outputs": [],
   "source": [
    "lr.coef_"
   ]
  },
  {
   "cell_type": "code",
   "execution_count": null,
   "metadata": {},
   "outputs": [],
   "source": [
    "labels=['gold_spent_ratio']+ohe.categories_[0].tolist()"
   ]
  },
  {
   "cell_type": "code",
   "execution_count": null,
   "metadata": {},
   "outputs": [],
   "source": [
    "for a, b in zip(labels,lr.coef_.flatten().tolist()):\n",
    "    print(\"{0:20} {1:7.4f}\".format(a,b))"
   ]
  },
  {
   "cell_type": "code",
   "execution_count": null,
   "metadata": {},
   "outputs": [],
   "source": []
  }
 ],
 "metadata": {
  "kernelspec": {
   "display_name": "Python 3",
   "language": "python",
   "name": "python3"
  },
  "language_info": {
   "codemirror_mode": {
    "name": "ipython",
    "version": 3
   },
   "file_extension": ".py",
   "mimetype": "text/x-python",
   "name": "python",
   "nbconvert_exporter": "python",
   "pygments_lexer": "ipython3",
   "version": "3.7.3"
  }
 },
 "nbformat": 4,
 "nbformat_minor": 2
}
