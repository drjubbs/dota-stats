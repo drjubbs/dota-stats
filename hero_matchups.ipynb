{
 "cells": [
  {
   "cell_type": "markdown",
   "metadata": {},
   "source": [
    "# Hero Match-Ups\n",
    "\n",
    "Use logistic regression to determine which heroes counter other heroes and which have synergy with other heroes."
   ]
  },
  {
   "cell_type": "code",
   "execution_count": 1,
   "metadata": {},
   "outputs": [],
   "source": [
    "import sqlite3\n",
    "import meta\n",
    "import os\n",
    "import ujson as json\n",
    "import pandas as pd\n",
    "import numpy as np\n",
    "import hero_analysis\n",
    "from sklearn.linear_model import LogisticRegression\n",
    "\n",
    "HERO='juggernaut'"
   ]
  },
  {
   "cell_type": "code",
   "execution_count": 2,
   "metadata": {},
   "outputs": [],
   "source": [
    "DB_FILES = ['matches_1_all_2020010710.db']"
   ]
  },
  {
   "cell_type": "code",
   "execution_count": 3,
   "metadata": {},
   "outputs": [
    {
     "name": "stdout",
     "output_type": "stream",
     "text": [
      "131661 matches found in database\n"
     ]
    }
   ],
   "source": [
    "rows=[]\n",
    "for db_file in DB_FILES:\n",
    "    conn = sqlite3.connect(db_file)\n",
    "    c = conn.cursor()\n",
    "    c.execute(\"SELECT match_id, radiant_heroes, dire_heroes, items, gold_spent, radiant_win FROM {}\".format(\n",
    "        os.environ['DOTA_SQL_STATS_TABLE']))\n",
    "    rows.extend(c.fetchall())\n",
    "    conn.close()\n",
    "    \n",
    "print(\"{0} matches found in database\".format(len(rows)))"
   ]
  },
  {
   "cell_type": "code",
   "execution_count": 4,
   "metadata": {},
   "outputs": [],
   "source": [
    "enemy_list = []\n",
    "ally_list = []\n",
    "for match_id, radiant_heroes, dire_heroes, items, gold_spent, radiant_win in rows:\n",
    "    a, b = hero_analysis.unpack_match(match_id, HERO, radiant_heroes, dire_heroes, radiant_win)\n",
    "    if not(a==[]):\n",
    "        enemy_list.extend(a)\n",
    "    if not(b==[]):\n",
    "        ally_list.extend(b)"
   ]
  },
  {
   "cell_type": "markdown",
   "metadata": {},
   "source": [
    "# List of Enemy Counters"
   ]
  },
  {
   "cell_type": "code",
   "execution_count": null,
   "metadata": {},
   "outputs": [],
   "source": [
    "df_enemy=pd.DataFrame(enemy_list)\n",
    "df_enemy.columns=[\"match_id\", \"target_hero\", \"radiant_flag\", \"enemy_hero\", \"win\"]\n",
    "df_enemy.to_csv(\"temp_enemy_flat.csv\")"
   ]
  },
  {
   "cell_type": "code",
   "execution_count": null,
   "metadata": {},
   "outputs": [],
   "source": [
    "df_enemy['p1']=1\n",
    "df_enemy=df_enemy.pivot_table(index=['match_id', 'target_hero', 'radiant_flag', 'win'], columns='enemy_hero', values='p1').fillna(0)\n",
    "df_enemy.reset_index(inplace=True)"
   ]
  },
  {
   "cell_type": "code",
   "execution_count": null,
   "metadata": {},
   "outputs": [],
   "source": [
    "hero_columns=[t for t in df_enemy.columns if t not in ['match_id', 'target_hero', 'radiant_flag', 'win']]"
   ]
  },
  {
   "cell_type": "code",
   "execution_count": null,
   "metadata": {},
   "outputs": [],
   "source": [
    "X1=np.array([int(t) for t in df_enemy['radiant_flag']]).reshape(-1,1)\n",
    "X2=df_enemy[hero_columns].values\n",
    "y=[int(t) for t in df_enemy['win']]"
   ]
  },
  {
   "cell_type": "code",
   "execution_count": null,
   "metadata": {},
   "outputs": [],
   "source": [
    "X=np.concatenate([X1, X2], axis=1)\n",
    "X_labels=[\"radiant\"]+hero_columns"
   ]
  },
  {
   "cell_type": "code",
   "execution_count": null,
   "metadata": {},
   "outputs": [],
   "source": [
    "lr=LogisticRegression()\n",
    "_ = lr.fit(X,y)"
   ]
  },
  {
   "cell_type": "code",
   "execution_count": null,
   "metadata": {},
   "outputs": [],
   "source": [
    "results=pd.DataFrame({\n",
    "    'variable' : X_labels,\n",
    "    'coeff' : lr.coef_[0]\n",
    "})\n",
    "results.to_csv(\"temp_results.csv\")"
   ]
  },
  {
   "cell_type": "markdown",
   "metadata": {},
   "source": [
    "# List of Synergistic Teammates"
   ]
  },
  {
   "cell_type": "code",
   "execution_count": 5,
   "metadata": {},
   "outputs": [],
   "source": [
    "df_ally=pd.DataFrame(ally_list)\n",
    "df_ally.columns=[\"match_id\", \"target_hero\", \"radiant_flag\", \"ally_hero\", \"win\"]\n",
    "df_ally.to_csv(\"temp_ally_flat.csv\")"
   ]
  },
  {
   "cell_type": "code",
   "execution_count": 6,
   "metadata": {},
   "outputs": [],
   "source": [
    "df_ally['p1']=1\n",
    "df_ally=df_ally.pivot_table(index=['match_id', 'target_hero', 'radiant_flag', 'win'], columns='ally_hero', values='p1').fillna(0)\n",
    "df_ally.reset_index(inplace=True)"
   ]
  },
  {
   "cell_type": "code",
   "execution_count": 11,
   "metadata": {},
   "outputs": [],
   "source": [
    "hero_columns=[t for t in df_ally.columns if t not in ['match_id', 'target_hero', 'radiant_flag', 'win']]"
   ]
  },
  {
   "cell_type": "code",
   "execution_count": 13,
   "metadata": {},
   "outputs": [],
   "source": [
    "X1=np.array([int(t) for t in df_ally['radiant_flag']]).reshape(-1,1)\n",
    "X2=df_ally[hero_columns].values\n",
    "y=[int(t) for t in df_ally['win']]"
   ]
  },
  {
   "cell_type": "code",
   "execution_count": 15,
   "metadata": {},
   "outputs": [],
   "source": [
    "X=np.concatenate([X1, X2], axis=1)\n",
    "X_labels=[\"radiant\"]+hero_columns\n",
    "lr=LogisticRegression()\n",
    "_ = lr.fit(X,y)\n",
    "\n",
    "results=pd.DataFrame({\n",
    "    'variable' : X_labels,\n",
    "    'coeff' : lr.coef_[0]\n",
    "})\n",
    "results.to_csv(\"temp_ally_results.csv\")"
   ]
  },
  {
   "cell_type": "code",
   "execution_count": null,
   "metadata": {},
   "outputs": [],
   "source": []
  }
 ],
 "metadata": {
  "kernelspec": {
   "display_name": "Python 3",
   "language": "python",
   "name": "python3"
  },
  "language_info": {
   "codemirror_mode": {
    "name": "ipython",
    "version": 3
   },
   "file_extension": ".py",
   "mimetype": "text/x-python",
   "name": "python",
   "nbconvert_exporter": "python",
   "pygments_lexer": "ipython3",
   "version": "3.7.3"
  }
 },
 "nbformat": 4,
 "nbformat_minor": 2
}
